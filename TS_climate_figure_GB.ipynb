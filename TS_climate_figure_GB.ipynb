{
 "cells": [
  {
   "cell_type": "code",
   "execution_count": 1,
   "metadata": {
    "collapsed": true
   },
   "outputs": [],
   "source": [
    "%matplotlib inline\n",
    "import numpy as np\n",
    "import pandas as pd\n",
    "import xarray as xr\n",
    "import matplotlib.pyplot as plt\n",
    "import matplotlib\n",
    "import matplotlib.cm as cm\n",
    "import seaborn as sns\n",
    "from scipy import stats\n",
    "import matplotlib.patches as patches\n",
    "import math"
   ]
  },
  {
   "cell_type": "code",
   "execution_count": 2,
   "metadata": {
    "collapsed": true
   },
   "outputs": [],
   "source": [
    "ds = xr.open_dataset('ClimProjAll.nc')"
   ]
  },
  {
   "cell_type": "code",
   "execution_count": 3,
   "metadata": {
    "collapsed": true
   },
   "outputs": [],
   "source": [
    "test = ds.isel(site=0).groupby('time.year').mean().to_dataframe()\n",
    "yr_2017 = 2017-1950"
   ]
  },
  {
   "cell_type": "code",
   "execution_count": 5,
   "metadata": {},
   "outputs": [
    {
     "data": {
      "text/plain": [
       "<xarray.Dataset>\n",
       "Dimensions:  (year: 151)\n",
       "Coordinates:\n",
       "  * year     (year) int64 1950 1951 1952 1953 1954 1955 1956 1957 1958 1959 ...\n",
       "Data variables:\n",
       "    vpd      (year) float64 0.1526 0.1627 0.1597 0.153 0.1539 0.1657 0.1515 ...\n",
       "    tmax     (year) float64 2.563 2.56 2.493 2.484 2.453 2.554 2.577 2.404 ...\n",
       "    tmin     (year) float64 3.149 2.985 3.053 3.025 3.022 3.022 3.134 2.815 ...\n",
       "    tavg     (year) float64 2.762 2.665 2.655 2.653 2.632 2.674 2.766 2.52 ..."
      ]
     },
     "execution_count": 5,
     "metadata": {},
     "output_type": "execute_result"
    }
   ],
   "source": [
    "ds.isel(site=0).groupby('time.year').std()"
   ]
  },
  {
   "cell_type": "code",
   "execution_count": null,
   "metadata": {
    "collapsed": true
   },
   "outputs": [],
   "source": [
    "site_data.sel(time=slice('2050-01-01','2050-12-01'))"
   ]
  },
  {
   "cell_type": "code",
   "execution_count": 8,
   "metadata": {
    "collapsed": true
   },
   "outputs": [],
   "source": [
    "#colors for sites\n",
    "colors = cm.rainbow(np.linspace(0, 1, 13))\n"
   ]
  },
  {
   "cell_type": "code",
   "execution_count": 5,
   "metadata": {
    "collapsed": true
   },
   "outputs": [],
   "source": [
    "#for the loop\n",
    "site_num = len(ds['site'])\n",
    "sites = np.arange(0,site_num,1)"
   ]
  },
  {
   "cell_type": "code",
   "execution_count": null,
   "metadata": {
    "collapsed": true
   },
   "outputs": [],
   "source": [
    "#create figure\n",
    "fig1 = plt.figure()\n",
    "ax1 = fig1.add_subplot(111)\n",
    "fig1.set_size_inches(13,7)\n",
    "\n",
    "#set axis bounds to see all data\n",
    "ax1.set_xbound(lower=21,upper=33)\n",
    "ax1.set_ybound(lower=0, upper=2)\n",
    "#set labls\n",
    "ax1.set_xlabel('Tavg')\n",
    "ax1.set_ylabel('VPD')\n",
    "#array of sites\n",
    "sites = np.arange(0,len(ds['site']),1)\n",
    "#get index for 2017\n",
    "yr_2017 = 2017-1950\n",
    "\n",
    "for i in sites:\n",
    "    \n",
    "    #grab each site\n",
    "    site_data = ds.isel(site=i)\n",
    "    ##Line Plot/Points\n",
    "    #grab yearly averages, gcm also averaged\n",
    "    year_avg = ds.isel(site=i).groupby('time.year').mean()\n",
    "    year_std = ds\n",
    "    #grab time frame for line plot\n",
    "    year_avg = year_avg.sel(year=slice('1950-01-01','2050-01-01'))\n",
    "    #change to pandas dataframe for use of 'rolling' command\n",
    "    year_avg = year_avg.to_dataframe()\n",
    "    \n",
    "    ##Ovals\n",
    "    #time frame for 1st oval\n",
    "    site_data_past = site_data.sel(time=slice('1950-01-01','1999-12-01'))\n",
    "    #time frame for 2nd oval\n",
    "    site_data_future = site_data.sel(time=slice('2050-01-01','2050-12-01'))\n",
    "    \n",
    "    #calculate regression of future time frame for arrow\n",
    "    #slope, intercept, r_value, p_value, std_err = stats.linregress(site_data_future.mean('gcm')['tavg'],site_data_future.mean('gcm')['vpd'])\n",
    "    #calc standard deviation of future time frame\n",
    "    future_std = site_data_future.std()\n",
    "    #calc sigma for past time frame\n",
    "    past_std = site_data_past.std()\n",
    "    #Calculate means for future and past time frame\n",
    "    future_mean = site_data_future.mean()\n",
    "    past_mean = site_data_past.mean()\n",
    "\n",
    "    \n",
    "    #Calculate 95%CI for 'past' time frame\n",
    "    \n",
    "    ###No longer using the CI interval, using standard deviation instead\n",
    "    \n",
    "    #vpd_interval = stats.norm.interval(0.95, loc=0, scale=past_std['vpd']/np.sqrt(site_num))\n",
    "    #tavg_interval = stats.norm.interval(0.95, loc=0, scale=past_std['tavg']/np.sqrt(site_num))\n",
    "    #calculate 95%CI for 'future' time frame\n",
    "    #vpd_interval_future = stats.norm.interval(0.95, loc=0, scale=future_std['vpd']/np.sqrt(site_num))\n",
    "    #tavg_interval_future = stats.norm.interval(0.95, loc=0, scale=future_std['tavg']/np.sqrt(site_num))\n",
    "    \n",
    "    #extracting variables of interest from 'past'\n",
    "    tavg_mean = past_mean['tavg']\n",
    "    vpd_mean = past_mean['vpd']\n",
    "    \n",
    "    #extracting variables of interest form 'future'\n",
    "    tavg_future_mean = future_mean['tavg']\n",
    "    vpd_future_mean = future_mean['vpd']\n",
    "    \n",
    "    ##Line and Point Plotting\n",
    "    #plot 5 year window average\n",
    "    ax1.plot(year_avg['tavg'].rolling(window=5).mean(),year_avg['vpd'].rolling(window=5).mean(),color=colors[i], label='_nolegend_')\n",
    "    #plot year 1 on the plot\n",
    "    ax1.plot(year_avg.iloc[1]['tavg'],year_avg.iloc[1]['vpd'],marker='.',color='black',markersize=12)\n",
    "    #plot 2017 on plot\n",
    "    ax1.plot(year_avg.iloc[yr_2017]['tavg'],year_avg.iloc[yr_2017]['vpd'],marker='.',color='red',markersize=12)\n",
    "    \n",
    "\n",
    "    ##Oval Plotting\n",
    "    \n",
    "    ax1.add_patch(\n",
    "        patches.Ellipse(\n",
    "            (tavg_future_mean, vpd_future_mean),   # (x,y)\n",
    "            future_std['tavg'],          # width\n",
    "            future_std['vpd'],        #height\n",
    "            label=ds['site'].values[i],\n",
    "            facecolor=colors[i],\n",
    "            #angle=math.degrees(slope),\n",
    "            alpha=.5,\n",
    "            edgecolor='black'\n",
    "        )\n",
    "    )\n",
    "#plot parameters\n",
    "plt.legend(bbox_to_anchor=(1.01, 1), loc=2, borderaxespad=0., fontsize=16)\n",
    "#plt.title('VPD, Tavg : 1950-2050', size=)\n",
    "ax1.set_xlabel(r'T$_a$ [$^\\circ$C]', size=18)\n",
    "ax1.set_ylabel('VPD [kPa]', size=18)\n",
    "ax1.tick_params(labelsize=16)\n",
    "#save figure\n",
    "plt.savefig('trop_synth_balloons_2050.png', dpi=450, bbox_inches='tight')\n",
    "\n"
   ]
  }
 ],
 "metadata": {
  "anaconda-cloud": {},
  "kernelspec": {
   "display_name": "Python [conda root]",
   "language": "python",
   "name": "conda-root-py"
  },
  "language_info": {
   "codemirror_mode": {
    "name": "ipython",
    "version": 3
   },
   "file_extension": ".py",
   "mimetype": "text/x-python",
   "name": "python",
   "nbconvert_exporter": "python",
   "pygments_lexer": "ipython3",
   "version": "3.5.3"
  }
 },
 "nbformat": 4,
 "nbformat_minor": 1
}
