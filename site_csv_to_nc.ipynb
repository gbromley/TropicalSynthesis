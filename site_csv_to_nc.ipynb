{
 "cells": [
  {
   "cell_type": "code",
   "execution_count": 1,
   "metadata": {
    "collapsed": true
   },
   "outputs": [],
   "source": [
    "import numpy as np\n",
    "import pandas as pd\n",
    "import xarray\n",
    "import glob"
   ]
  },
  {
   "cell_type": "code",
   "execution_count": 2,
   "metadata": {
    "collapsed": true
   },
   "outputs": [],
   "source": [
    "#csv files to merge into netcdf\n",
    "data_dir = '/Users/gbromley/Dropbox/TropicalSynthesis/AllData/FutureProjections/'\n",
    "data_files = ['AU-Rob.csv','BR-Ban.csv','BR-Cax.csv','BR-Ji2.csv','BR-Ma2.csv','BR-Sa1.csv','BR-Sa3.csv','GF-Guy.csv','GH-Ank.csv','ID-Pag.csv','MY-PSO.csv','PA-SPn.csv','VU-Coc.csv']"
   ]
  },
  {
   "cell_type": "code",
   "execution_count": null,
   "metadata": {
    "collapsed": false
   },
   "outputs": [],
   "source": [
    "#create date range of the csv files (monthly starting from 1/1/1950)\n",
    "date_range = pd.date_range('1/1/1950', periods=1812, freq='MS')\n",
    "ds_list=[]"
   ]
  },
  {
   "cell_type": "code",
   "execution_count": 4,
   "metadata": {
    "collapsed": false
   },
   "outputs": [],
   "source": [
    "#extracts the variables from each site csv, gives dimensions time and gcm(climate model)\n",
    "#adds the newly created dataset to a list for merging\n",
    "for filenum in np.arange(0,len(data_files),1):\n",
    "    raw_site_data = pd.read_csv(data_dir+data_files[filenum], header=[0,1])\n",
    "    ds = xarray.Dataset({'vpd': (['time','gcm'],raw_site_data.ix[:,2:15]),\n",
    "                    'tmax': (['time','gcm'],raw_site_data.ix[:,15:28]),\n",
    "                    'tmin': (['time','gcm'],raw_site_data.ix[:,28:42])},\n",
    "                    coords={'gcm': np.arange(0,13,1),\n",
    "                            'time': pd.date_range('1/1/1950', periods=1812, freq='MS')})\n",
    "    \n",
    "    ds_list.append(ds)"
   ]
  },
  {
   "cell_type": "code",
   "execution_count": 5,
   "metadata": {
    "collapsed": false
   },
   "outputs": [],
   "source": [
    "#merges data along new coordinate 'site'\n",
    "all_sites_ds = xarray.concat(ds_list, dim='site')"
   ]
  },
  {
   "cell_type": "code",
   "execution_count": 8,
   "metadata": {
    "collapsed": false
   },
   "outputs": [],
   "source": [
    "#change the site dimension from int to site names\n",
    "names = []\n",
    "for i in np.arange(0,len(data_files),1):\n",
    "    names.append(data_files[i].split('.')[0])\n",
    "names = np.array(names)\n",
    "names = names.astype(np.dtype(str))\n",
    "\n",
    "all_sites_ds['site'] = names\n",
    "#can't figure out how to write the proper unit without errors, so added the time unit globally\n",
    "all_sites_ds.attrs['actual_time_unit']='months since 1950-01-01'\n",
    "all_sites_ds.to_netcdf('ClimProjAll.nc',mode='w')"
   ]
  },
  {
   "cell_type": "code",
   "execution_count": 7,
   "metadata": {
    "collapsed": false
   },
   "outputs": [
    {
     "data": {
      "text/plain": [
       "<xarray.Dataset>\n",
       "Dimensions:  (gcm: 13, site: 13, time: 1812)\n",
       "Coordinates:\n",
       "  * gcm      (gcm) int64 0 1 2 3 4 5 6 7 8 9 10 11 12\n",
       "  * time     (time) datetime64[ns] 1950-01-01 1950-02-01 1950-03-01 ...\n",
       "  * site     (site) <U6 'AU-Rob' 'BR-Ban' 'BR-Cax' 'BR-Ji2' 'BR-Ma2' ...\n",
       "Data variables:\n",
       "    vpd      (site, time, gcm) float64 0.9142 0.7234 1.087 0.887 0.8595 ...\n",
       "    tmax     (site, time, gcm) float64 30.08 27.53 31.27 30.21 29.5 30.54 ...\n",
       "    tmin     (site, time, gcm) float64 20.71 19.29 20.42 21.28 20.5 20.38 ...\n",
       "Attributes:\n",
       "    actual_time_unit: months since 1950-01-01"
      ]
     },
     "execution_count": 7,
     "metadata": {},
     "output_type": "execute_result"
    }
   ],
   "source": [
    "#making sure the dataset looks reasonable\n",
    "all_sites_ds"
   ]
  },
  {
   "cell_type": "code",
   "execution_count": 14,
   "metadata": {
    "collapsed": false
   },
   "outputs": [
    {
     "data": {
      "text/plain": [
       "<xarray.DataArray 'vpd' (time: 1812)>\n",
       "array([ 0.88412562,  0.80626845,  0.78622362, ...,  2.53492563,\n",
       "        2.39351788,  2.07285907])\n",
       "Coordinates:\n",
       "    gcm      int64 0\n",
       "  * time     (time) datetime64[ns] 1950-01-01 1950-02-01 1950-03-01 ...\n",
       "    site     <U6 'BR-Sa1'"
      ]
     },
     "execution_count": 14,
     "metadata": {},
     "output_type": "execute_result"
    }
   ],
   "source": [
    "#check data against original csv visually\n",
    "all_sites_ds.sel(site='BR-Sa1', gcm=0)['vpd']"
   ]
  }
 ],
 "metadata": {
  "anaconda-cloud": {},
  "kernelspec": {
   "display_name": "Python [Root]",
   "language": "python",
   "name": "Python [Root]"
  },
  "language_info": {
   "codemirror_mode": {
    "name": "ipython",
    "version": 3
   },
   "file_extension": ".py",
   "mimetype": "text/x-python",
   "name": "python",
   "nbconvert_exporter": "python",
   "pygments_lexer": "ipython3",
   "version": "3.5.0rc4"
  }
 },
 "nbformat": 4,
 "nbformat_minor": 0
}
